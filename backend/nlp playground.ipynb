{
 "cells": [
  {
   "cell_type": "code",
   "execution_count": 1,
   "metadata": {
    "scrolled": false
   },
   "outputs": [
    {
     "name": "stdout",
     "output_type": "stream",
     "text": [
      "['points', 'Max', 'Space Needle']\n",
      "['Seattle', 'Space Needle', 'trip', 'run', 'Central Park']\n"
     ]
    }
   ],
   "source": [
    "from Block import *\n",
    "from Day import *\n",
    "\n",
    "first_block = Block()\n",
    "second_block = Block()\n",
    "tomorrow_block = Block()\n",
    "today = Day()\n",
    "tomorrow = Day()\n",
    "\n",
    "today.add_block(first_block)\n",
    "today.add_block(second_block)\n",
    "today.set_date(\"20180915\")\n",
    "\n",
    "tomorrow.add_block(tomorrow_block)\n",
    "tomorrow.set_date(\"20180916\")\n",
    "\n",
    "first_block.set_text(\"We went on a trip to Seattle, the Space Needle was amazing!\")\n",
    "first_block.set_keywords()\n",
    "\n",
    "second_block.set_text(\"Bob went on a run in Central Park\")\n",
    "second_block.set_keywords()\n",
    "\n",
    "tomorrow_block.set_text(\"Under the Space Needle, Max scored 30 points in the basketball game\")\n",
    "tomorrow_block.set_keywords()\n",
    "print tomorrow_block.get_keywords()\n",
    "\n",
    "today.add_all_keywords()\n",
    "tomorrow.add_all_keywords()\n",
    "print(today.get_keywords())\n",
    "# print(today.blocks[0].get_keywords())"
   ]
  },
  {
   "cell_type": "code",
   "execution_count": 3,
   "metadata": {},
   "outputs": [
    {
     "name": "stdout",
     "output_type": "stream",
     "text": [
      "{'Alpha': 2, 'Beta': 30, 'Theta': 123}\n",
      "{'kewords': ['Seattle', 'Space Needle', 'trip'], 'caption': '', 'prompt': '', 'timestamp': '', 'text': 'We went on a trip to Seattle, the Space Needle was amazing!', 'photo': '', 'type': '', 'emoji': ''}\n",
      "{'kewords': ['Seattle', 'Space Needle', 'trip'], 'caption': '', 'prompt': '', 'timestamp': '', 'text': 'We went on a trip to Seattle, the Space Needle was amazing!', 'photo': '', 'type': '', 'emoji': ''}\n"
     ]
    }
   ],
   "source": [
    "asdf = {\"Alpha\": 2,\n",
    "        \"Beta\": 30,\n",
    "        \"Theta\": 123}\n",
    "print str(asdf)\n",
    "print first_block\n",
    "print first_block.return_json()"
   ]
  },
  {
   "cell_type": "code",
   "execution_count": 2,
   "metadata": {
    "scrolled": true
   },
   "outputs": [
    {
     "name": "stdout",
     "output_type": "stream",
     "text": [
      "{'run': ['20180915'], 'Max': ['20180916'], 'Central Park': ['20180915'], 'points': ['20180916'], 'Space Needle': ['20180915', '20180916'], 'Seattle': ['20180915'], 'trip': ['20180915']}\n"
     ]
    }
   ],
   "source": [
    "from corpus_dictionary import *\n",
    "\n",
    "corpus = Corpus()\n",
    "\n",
    "corpus.add_words(today)\n",
    "corpus.add_words(tomorrow)\n",
    "print corpus.words"
   ]
  },
  {
   "cell_type": "code",
   "execution_count": 3,
   "metadata": {},
   "outputs": [
    {
     "name": "stdout",
     "output_type": "stream",
     "text": [
      "{'in': 1.2876820724517808, 'seattle': 1.6931471805599454, 'trip': 1.6931471805599454, 'basketball': 1.6931471805599454, 'space': 1.2876820724517808, 'to': 1.6931471805599454, 'amazing': 1.6931471805599454, 'under': 1.6931471805599454, 'was': 1.6931471805599454, 'scored': 1.6931471805599454, 'we': 1.6931471805599454, 'run': 1.6931471805599454, 'max': 1.6931471805599454, 'needle': 1.2876820724517808, 'park': 1.6931471805599454, 'game': 1.6931471805599454, 'the': 1.2876820724517808, 'on': 1.2876820724517808, 'central': 1.6931471805599454, 'went': 1.2876820724517808, '30': 1.6931471805599454, 'points': 1.6931471805599454, 'bob': 1.6931471805599454}\n",
      "['We went on a trip to Seattle, the Space Needle was amazing!', 'Bob went on a run in Central Park', 'Under the Space Needle, Max scored 30 points in the basketball game']\n"
     ]
    }
   ],
   "source": [
    "corpus.add_text_to_corpus(today)\n",
    "corpus.add_text_to_corpus(tomorrow)\n",
    "\n",
    "corpus.calculate_tfidf()\n",
    "print corpus.tfidf_weights\n",
    "print corpus.corpus"
   ]
  },
  {
   "cell_type": "code",
   "execution_count": 16,
   "metadata": {},
   "outputs": [
    {
     "name": "stdout",
     "output_type": "stream",
     "text": [
      "{\"date\": \"20180915\", \"keywords\": [\"Seattle\", \"Space Needle\", \"trip\", \"run\", \"Central Park\"], \"weather\": \"\", \"blocks\": [{\"prompt\": \"\", \"photo\": \"\", \"caption\": \"\", \"text\": \"We went on a trip to Seattle, the Space Needle was amazing!\", \"timestamp\": \"\", \"keywords\": [\"Seattle\", \"Space Needle\", \"trip\"], \"type\": \"\", \"emoji\": \"\"}, {\"prompt\": \"\", \"photo\": \"\", \"caption\": \"\", \"text\": \"Bob went on a run in Central Park\", \"timestamp\": \"\", \"keywords\": [\"run\", \"Central Park\"], \"type\": \"\", \"emoji\": \"\"}], \"heading\": \"\"}\n"
     ]
    }
   ],
   "source": [
    "import json\n",
    "s = json.dumps(today, default=lambda o: o.__dict__)\n",
    "print s"
   ]
  },
  {
   "cell_type": "code",
   "execution_count": 12,
   "metadata": {},
   "outputs": [
    {
     "name": "stdout",
     "output_type": "stream",
     "text": [
      "{u'documents': [{u'keyPhrases': [u'Seattle', u'Space Needle', u'trip'], u'id': u'1'}], u'errors': []}\n"
     ]
    }
   ],
   "source": [
    "import requests\n",
    "headers = {\n",
    "    'Ocp-Apim-Subscription-Key': '59bf3be460ad434585a4b4143c470a92',\n",
    "}\n",
    "azure_url = \"https://eastus.api.cognitive.microsoft.com/text/analytics/v2.0/KeyPhrases\"\n",
    "document = {'documents': [\n",
    "    {'id': '1', 'text': 'We went on a trip to Seattle, the Space Needle was amazing!'}\n",
    "]}\n",
    "response = requests.post(azure_url, headers=headers, json=document)\n",
    "keywords = response.json()\n",
    "print keywords"
   ]
  },
  {
   "cell_type": "code",
   "execution_count": 27,
   "metadata": {},
   "outputs": [
    {
     "data": {
      "text/plain": [
       "['Seattle', 'Space Needle', 'trip']"
      ]
     },
     "execution_count": 27,
     "metadata": {},
     "output_type": "execute_result"
    }
   ],
   "source": [
    "[keyword.encode('utf-8') for keyword in keywords['documents'][0]['keyPhrases']]\n"
   ]
  },
  {
   "cell_type": "code",
   "execution_count": 28,
   "metadata": {},
   "outputs": [
    {
     "name": "stdout",
     "output_type": "stream",
     "text": [
      "strange\n"
     ]
    }
   ],
   "source": [
    "from sklearn.feature_extraction.text import TfidfVectorizer\n",
    "import operator\n",
    "\n",
    "corpus = [\"This is very strange\", \"This is very nice\"]\n",
    "vectorizer = TfidfVectorizer(min_df=1)\n",
    "X = vectorizer.fit_transform(corpus)\n",
    "idf = vectorizer.idf_\n",
    "weights = dict(zip([word.encode('utf-8') for word in vectorizer.get_feature_names()], idf))\n",
    "weights = sorted(weights.items(), key=operator.itemgetter(1), reverse=True)\n",
    "print weights[0][0]\n"
   ]
  }
 ],
 "metadata": {
  "kernelspec": {
   "display_name": "Python 2",
   "language": "python",
   "name": "python2"
  },
  "language_info": {
   "codemirror_mode": {
    "name": "ipython",
    "version": 2
   },
   "file_extension": ".py",
   "mimetype": "text/x-python",
   "name": "python",
   "nbconvert_exporter": "python",
   "pygments_lexer": "ipython2",
   "version": "2.7.15"
  }
 },
 "nbformat": 4,
 "nbformat_minor": 2
}
