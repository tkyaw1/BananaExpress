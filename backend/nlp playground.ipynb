{
 "cells": [
  {
   "cell_type": "code",
   "execution_count": 1,
   "metadata": {
    "scrolled": true
   },
   "outputs": [
    {
     "name": "stdout",
     "output_type": "stream",
     "text": [
      "['today', 'surf', 'platform', 'Kastan', 'climbing', 'operations']\n"
     ]
    }
   ],
   "source": [
    "from Block import *\n",
    "from Day import *\n",
    "\n",
    "first_block = Block()\n",
    "second_block = Block()\n",
    "today = Day()\n",
    "tomorrow = Day()\n",
    "\n",
    "today.add_block(first_block)\n",
    "today.add_block(second_block)\n",
    "today.set_date(\"20180915\")\n",
    "\n",
    "tomorrow.add_block(first_block)\n",
    "tomorrow.set_date(\"20180916\")\n",
    "\n",
    "first_block.set_text(\"Hello what are you up to today\")\n",
    "first_block.set_keywords(['today', 'surf', 'platform'])\n",
    "\n",
    "second_block.set_keywords(['Kastan', 'climbing', 'operations'])\n",
    "\n",
    "today.add_all_keywords()\n",
    "tomorrow.add_all_keywords()\n",
    "print(today.get_keywords())\n",
    "# print(today.blocks[0].get_keywords())"
   ]
  },
  {
   "cell_type": "code",
   "execution_count": 2,
   "metadata": {},
   "outputs": [
    {
     "name": "stdout",
     "output_type": "stream",
     "text": [
      "{'surf': ['20180915', '20180916'], 'operations': ['20180915'], 'platform': ['20180915', '20180916'], 'climbing': ['20180915'], 'Kastan': ['20180915'], 'today': ['20180915', '20180916']}\n"
     ]
    }
   ],
   "source": [
    "from corpus_dictionary import *\n",
    "\n",
    "corpus = Corpus()\n",
    "\n",
    "corpus.add_words(today)\n",
    "corpus.add_words(tomorrow)\n",
    "print corpus.words"
   ]
  }
 ],
 "metadata": {
  "kernelspec": {
   "display_name": "Python 2",
   "language": "python",
   "name": "python2"
  },
  "language_info": {
   "codemirror_mode": {
    "name": "ipython",
    "version": 2
   },
   "file_extension": ".py",
   "mimetype": "text/x-python",
   "name": "python",
   "nbconvert_exporter": "python",
   "pygments_lexer": "ipython2",
   "version": "2.7.15"
  }
 },
 "nbformat": 4,
 "nbformat_minor": 2
}
